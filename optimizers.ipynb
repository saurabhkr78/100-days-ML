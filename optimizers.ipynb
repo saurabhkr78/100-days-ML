{
  "nbformat": 4,
  "nbformat_minor": 0,
  "metadata": {
    "colab": {
      "provenance": [],
      "authorship_tag": "ABX9TyP0jK/aBv1YUFG1qwr9UQoR"
    },
    "kernelspec": {
      "name": "python3",
      "display_name": "Python 3"
    },
    "language_info": {
      "name": "python"
    }
  },
  "cells": [
    {
      "cell_type": "code",
      "execution_count": null,
      "metadata": {
        "colab": {
          "base_uri": "https://localhost:8080/"
        },
        "id": "cBXoTkiZNGgt",
        "outputId": "245376d5-7476-4d53-dbb5-8718560ac8a2"
      },
      "outputs": [
        {
          "output_type": "stream",
          "name": "stdout",
          "text": [
            "[-0.73908513]\n"
          ]
        },
        {
          "output_type": "stream",
          "name": "stderr",
          "text": [
            "<ipython-input-2-ae68803b0b25>:5: DeprecationWarning: Conversion of an array with ndim > 0 to a scalar is deprecated, and will error in future. Ensure you extract a single element from your array before performing this operation. (Deprecated NumPy 1.25.)\n",
            "  return x+cos(x)\n"
          ]
        }
      ],
      "source": [
        "from scipy.optimize import root\n",
        "from math import cos\n",
        "\n",
        "def equation(x):\n",
        "  return x+cos(x)\n",
        "\n",
        "myroot=root(equation,0)\n",
        "#  myroot is an object returned by the root function,\n",
        "#  and myroot.x contains the root of the equation eqn.\n",
        "print(myroot.x)\n"
      ]
    },
    {
      "cell_type": "code",
      "source": [
        "# Minimize the function x^2 + x + 2 with BFGS\n",
        "from scipy.optimize import minimize\n",
        "def eqn(x):\n",
        "  return x**2 + x + 2\n",
        "mymin = minimize(eqn, 0, method='BFGS')\n",
        "print(mymin.x)"
      ],
      "metadata": {
        "colab": {
          "base_uri": "https://localhost:8080/"
        },
        "id": "wuSkqLUBRpAe",
        "outputId": "635665a9-6c17-4218-b33f-c005f15c4db1"
      },
      "execution_count": null,
      "outputs": [
        {
          "output_type": "stream",
          "name": "stdout",
          "text": [
            "[-0.50000001]\n"
          ]
        }
      ]
    },
    {
      "cell_type": "code",
      "source": [
        "# Sparse Data: is a data set where most of the item values are zero e.g [1, 0, 2, 0, 0, 3, 0, 0, 0, 0, 0, 0]\n",
        "# Dense Array: is the opposite of a sparse array: most of the values are not zero.\n",
        "# scipy.sparse that provides functions to deal with sparse data.\n",
        "'''\n",
        "There are primarily two types of sparse matrices that we use:\n",
        "\n",
        "CSC - Compressed Sparse Column. For efficient arithmetic, fast column slicing.\n",
        "\n",
        "CSR - Compressed Sparse Row. For fast row slicing, faster matrix vector products\n",
        "\n",
        "CSR Matrix:We can create CSR matrix by passing an arrray into function scipy.sparse.csr_matrix()\n",
        "\n",
        "import numpy as np\n",
        "from scipy.sparse import csr_matrix\n",
        "\n",
        "arr = np.array([0, 0, 0, 0, 0, 1, 1, 0, 2])\n",
        "\n",
        "print(csr_matrix(arr))\n",
        "\n",
        "'''\n"
      ],
      "metadata": {
        "id": "PZm0WGKDS8tx"
      },
      "execution_count": null,
      "outputs": []
    }
  ]
}