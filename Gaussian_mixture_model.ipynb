{
  "nbformat": 4,
  "nbformat_minor": 0,
  "metadata": {
    "colab": {
      "provenance": [],
      "authorship_tag": "ABX9TyM79tZajylEtwoEsODIzuxc",
      "include_colab_link": true
    },
    "kernelspec": {
      "name": "python3",
      "display_name": "Python 3"
    },
    "language_info": {
      "name": "python"
    }
  },
  "cells": [
    {
      "cell_type": "markdown",
      "metadata": {
        "id": "view-in-github",
        "colab_type": "text"
      },
      "source": [
        "<a href=\"https://colab.research.google.com/github/saurabhkr78/100-days-ML/blob/main/Gaussian_mixture_model.ipynb\" target=\"_parent\"><img src=\"https://colab.research.google.com/assets/colab-badge.svg\" alt=\"Open In Colab\"/></a>"
      ]
    },
    {
      "cell_type": "markdown",
      "source": [
        "#Statement:\n",
        "Categorize customers into distinct segments based on their purchasing behaviour.this segmentation will help in tailoring marketing strategies and promotions to diff customers groups,ultimately maximizing sales and customer satisfaction\n",
        "#Gausian Mixture model\n",
        "A Gaussian Mixture Model (GMM) is a probabilistic model that assumes all the data points are generated from a mixture of several Gaussian distributions with unknown parameters. Here's an overview of GMM and when to use it:\n",
        "\n",
        "How it works:\n",
        "Mixture of Gaussian distributions: GMM represents the probability distribution of the observed data as a weighted sum of several Gaussian distributions (also known as components or clusters).\n",
        "\n",
        "Parameters estimation: The model parameters include the mean and covariance matrix for each Gaussian component, as well as the mixing coefficients (weights) that represent the probability of each component.\n",
        "\n",
        "Expectation-Maximization (EM) algorithm: GMM parameters are typically estimated using the EM algorithm. In the E-step, the algorithm computes the expected value of the latent variable (the cluster assignment) given the observed data and current parameter estimates. In the M-step, it updates the parameters to maximize the likelihood of the observed data.\n",
        "\n",
        "Cluster assignment: Once the model is trained, each data point can be assigned to the Gaussian component with the highest probability (soft clustering) or assigned to the component that maximizes its posterior probability (hard clustering).\n",
        "\n",
        "#when to use\n",
        "When to use it:\n",
        "Flexible clustering: GMM can capture complex cluster shapes and densities, making it suitable for datasets with non-linear boundaries and overlapping clusters.\n",
        "\n",
        "Uncertain cluster assignment: GMM provides a probabilistic framework, allowing for uncertainty in cluster assignment. This is useful when data points may belong to multiple clusters or when the boundaries between clusters are fuzzy.\n",
        "\n",
        "Unknown number of clusters: Unlike some other clustering algorithms, such as k-means, GMM does not require the number of clusters to be specified beforehand. It can automatically determine the optimal number of components based on the data.\n",
        "\n",
        "Density estimation: GMM can be used for density estimation tasks, where the goal is to model the underlying probability distribution of the data.\n",
        "\n",
        "Generative modeling: GMM can generate new data points by sampling from the learned Gaussian distributions, making it useful for data generation tasks."
      ],
      "metadata": {
        "id": "fvELVTudzRs6"
      }
    },
    {
      "cell_type": "code",
      "source": [
        "import numpy as np\n",
        "import matplotlib.pyplot as plt\n",
        "from sklearn.mixture import GaussianMixture\n",
        "from sklearn.preprocessing import StandardScaler"
      ],
      "metadata": {
        "id": "FrkdUlc80HTf"
      },
      "execution_count": 1,
      "outputs": []
    },
    {
      "cell_type": "code",
      "source": [
        "np.random.seed(42)\n",
        "segment1 =np.random.normal(loc=30,scale=5,size=100) #normal distribution means gaussian distribution\n",
        "segment2 =np.random.normal(loc=60,scale=10,size=150) #loc=mean scale=standard deviation size=no of samples\n",
        "segment3 =np.random.normal(loc=90,scale=8,size=120)\n",
        "data =np.concatenate([segment1,segment2,segment3]).reshape(-1,1)"
      ],
      "metadata": {
        "id": "Yztj2lgm0u54"
      },
      "execution_count": 2,
      "outputs": []
    },
    {
      "cell_type": "code",
      "source": [
        "#standardizing\n",
        "scaler = StandardScaler()\n",
        "data_scaled = scaler.fit_transform(data)"
      ],
      "metadata": {
        "id": "vDjwYLFP1u9z"
      },
      "execution_count": 3,
      "outputs": []
    },
    {
      "cell_type": "code",
      "source": [
        "#3 segement so 3 cluster/group\n",
        "n_components = 3\n",
        "gmm = GaussianMixture(n_components=n_components, random_state=42)\n",
        "gmm.fit(data_scaled)"
      ],
      "metadata": {
        "colab": {
          "base_uri": "https://localhost:8080/",
          "height": 74
        },
        "id": "JedDrBKq2EqO",
        "outputId": "f7bd2852-cb9d-4f5b-f068-2b02519b2852"
      },
      "execution_count": 4,
      "outputs": [
        {
          "output_type": "execute_result",
          "data": {
            "text/plain": [
              "GaussianMixture(n_components=3, random_state=42)"
            ],
            "text/html": [
              "<style>#sk-container-id-1 {color: black;background-color: white;}#sk-container-id-1 pre{padding: 0;}#sk-container-id-1 div.sk-toggleable {background-color: white;}#sk-container-id-1 label.sk-toggleable__label {cursor: pointer;display: block;width: 100%;margin-bottom: 0;padding: 0.3em;box-sizing: border-box;text-align: center;}#sk-container-id-1 label.sk-toggleable__label-arrow:before {content: \"▸\";float: left;margin-right: 0.25em;color: #696969;}#sk-container-id-1 label.sk-toggleable__label-arrow:hover:before {color: black;}#sk-container-id-1 div.sk-estimator:hover label.sk-toggleable__label-arrow:before {color: black;}#sk-container-id-1 div.sk-toggleable__content {max-height: 0;max-width: 0;overflow: hidden;text-align: left;background-color: #f0f8ff;}#sk-container-id-1 div.sk-toggleable__content pre {margin: 0.2em;color: black;border-radius: 0.25em;background-color: #f0f8ff;}#sk-container-id-1 input.sk-toggleable__control:checked~div.sk-toggleable__content {max-height: 200px;max-width: 100%;overflow: auto;}#sk-container-id-1 input.sk-toggleable__control:checked~label.sk-toggleable__label-arrow:before {content: \"▾\";}#sk-container-id-1 div.sk-estimator input.sk-toggleable__control:checked~label.sk-toggleable__label {background-color: #d4ebff;}#sk-container-id-1 div.sk-label input.sk-toggleable__control:checked~label.sk-toggleable__label {background-color: #d4ebff;}#sk-container-id-1 input.sk-hidden--visually {border: 0;clip: rect(1px 1px 1px 1px);clip: rect(1px, 1px, 1px, 1px);height: 1px;margin: -1px;overflow: hidden;padding: 0;position: absolute;width: 1px;}#sk-container-id-1 div.sk-estimator {font-family: monospace;background-color: #f0f8ff;border: 1px dotted black;border-radius: 0.25em;box-sizing: border-box;margin-bottom: 0.5em;}#sk-container-id-1 div.sk-estimator:hover {background-color: #d4ebff;}#sk-container-id-1 div.sk-parallel-item::after {content: \"\";width: 100%;border-bottom: 1px solid gray;flex-grow: 1;}#sk-container-id-1 div.sk-label:hover label.sk-toggleable__label {background-color: #d4ebff;}#sk-container-id-1 div.sk-serial::before {content: \"\";position: absolute;border-left: 1px solid gray;box-sizing: border-box;top: 0;bottom: 0;left: 50%;z-index: 0;}#sk-container-id-1 div.sk-serial {display: flex;flex-direction: column;align-items: center;background-color: white;padding-right: 0.2em;padding-left: 0.2em;position: relative;}#sk-container-id-1 div.sk-item {position: relative;z-index: 1;}#sk-container-id-1 div.sk-parallel {display: flex;align-items: stretch;justify-content: center;background-color: white;position: relative;}#sk-container-id-1 div.sk-item::before, #sk-container-id-1 div.sk-parallel-item::before {content: \"\";position: absolute;border-left: 1px solid gray;box-sizing: border-box;top: 0;bottom: 0;left: 50%;z-index: -1;}#sk-container-id-1 div.sk-parallel-item {display: flex;flex-direction: column;z-index: 1;position: relative;background-color: white;}#sk-container-id-1 div.sk-parallel-item:first-child::after {align-self: flex-end;width: 50%;}#sk-container-id-1 div.sk-parallel-item:last-child::after {align-self: flex-start;width: 50%;}#sk-container-id-1 div.sk-parallel-item:only-child::after {width: 0;}#sk-container-id-1 div.sk-dashed-wrapped {border: 1px dashed gray;margin: 0 0.4em 0.5em 0.4em;box-sizing: border-box;padding-bottom: 0.4em;background-color: white;}#sk-container-id-1 div.sk-label label {font-family: monospace;font-weight: bold;display: inline-block;line-height: 1.2em;}#sk-container-id-1 div.sk-label-container {text-align: center;}#sk-container-id-1 div.sk-container {/* jupyter's `normalize.less` sets `[hidden] { display: none; }` but bootstrap.min.css set `[hidden] { display: none !important; }` so we also need the `!important` here to be able to override the default hidden behavior on the sphinx rendered scikit-learn.org. See: https://github.com/scikit-learn/scikit-learn/issues/21755 */display: inline-block !important;position: relative;}#sk-container-id-1 div.sk-text-repr-fallback {display: none;}</style><div id=\"sk-container-id-1\" class=\"sk-top-container\"><div class=\"sk-text-repr-fallback\"><pre>GaussianMixture(n_components=3, random_state=42)</pre><b>In a Jupyter environment, please rerun this cell to show the HTML representation or trust the notebook. <br />On GitHub, the HTML representation is unable to render, please try loading this page with nbviewer.org.</b></div><div class=\"sk-container\" hidden><div class=\"sk-item\"><div class=\"sk-estimator sk-toggleable\"><input class=\"sk-toggleable__control sk-hidden--visually\" id=\"sk-estimator-id-1\" type=\"checkbox\" checked><label for=\"sk-estimator-id-1\" class=\"sk-toggleable__label sk-toggleable__label-arrow\">GaussianMixture</label><div class=\"sk-toggleable__content\"><pre>GaussianMixture(n_components=3, random_state=42)</pre></div></div></div></div></div>"
            ]
          },
          "metadata": {},
          "execution_count": 4
        }
      ]
    },
    {
      "cell_type": "code",
      "source": [
        "#prediction\n",
        "cluster_labels=gmm.predict(data_scaled)"
      ],
      "metadata": {
        "id": "tg4m4UFG2b6u"
      },
      "execution_count": 5,
      "outputs": []
    },
    {
      "cell_type": "code",
      "source": [
        "#visualize\n",
        "plt.scatter(data,np.zeros_like(data),c=cluster_labels,cmap='viridis')\n",
        "plt.xlabel('Purchase Amount')\n",
        "plt.ylabel('Cluster')\n",
        "plt.title('Customer Segmentaion')\n",
        "plt.show()"
      ],
      "metadata": {
        "colab": {
          "base_uri": "https://localhost:8080/",
          "height": 472
        },
        "id": "C-snzjcD2vul",
        "outputId": "d826d2ed-7e48-484e-c25b-abc4e05b065e"
      },
      "execution_count": 12,
      "outputs": [
        {
          "output_type": "display_data",
          "data": {
            "text/plain": [
              "<Figure size 640x480 with 1 Axes>"
            ],
            "image/png": "[encoded data removed]"
          },
          "metadata": {}
        }
      ]
    },
    {
      "cell_type": "code",
      "source": [
        "#testing model\n",
        "user_input=float(input(\"Enter a purchase amount to predict customer segement:\"))\n",
        "user_input_scaled = scaler.transform([[user_input]])\n",
        "predicted_cluster = gmm.predict(user_input_scaled.reshape(-1,1))[0]\n",
        "print(f\"Predicted Customer Segment for a purchase amount of {user_input} is:{predicted_cluster +1}\")"
      ],
      "metadata": {
        "colab": {
          "base_uri": "https://localhost:8080/"
        },
        "id": "cABKnLaI7Sy8",
        "outputId": "3a1cecfe-9e85-4dc7-e0ae-2375942b784b"
      },
      "execution_count": 13,
      "outputs": [
        {
          "output_type": "stream",
          "name": "stdout",
          "text": [
            "Enter a purchase amount to predict customer segement:50\n",
            "Predicted Customer Segment for a purchase amount of 50.0 is:1\n"
          ]
        }
      ]
    }
  ]
}